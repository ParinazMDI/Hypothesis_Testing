{
 "cells": [
  {
   "cell_type": "markdown",
   "metadata": {},
   "source": [
    "# Before you start:\n",
    "- Read the README.md file\n",
    "- Comment as much as you can and use the resources (README.md file)\n",
    "- Always state the H0 and H1 before conducting the hypothesis test.\n",
    "- Happy learning!"
   ]
  },
  {
   "cell_type": "code",
   "execution_count": 1,
   "metadata": {},
   "outputs": [],
   "source": [
    "import pandas as pd\n",
    "import numpy as np\n",
    "from scipy.stats import ttest_1samp\n"
   ]
  },
  {
   "cell_type": "markdown",
   "metadata": {},
   "source": [
    "# Challenge 1 - Exploring the Data\n",
    "\n",
    "In this challenge, we will examine all salaries of employees of the City of Chicago. We will start by loading the dataset and examining its contents. "
   ]
  },
  {
   "cell_type": "code",
   "execution_count": 2,
   "metadata": {},
   "outputs": [],
   "source": [
    "salaries=pd.read_csv(\"Current_Employee_Names__Salaries__and_Position_Titles.csv\")\n"
   ]
  },
  {
   "cell_type": "markdown",
   "metadata": {},
   "source": [
    "Examine the `salaries` dataset using the `head` function below."
   ]
  },
  {
   "cell_type": "code",
   "execution_count": 3,
   "metadata": {},
   "outputs": [
    {
     "data": {
      "text/html": [
       "<div>\n",
       "<style scoped>\n",
       "    .dataframe tbody tr th:only-of-type {\n",
       "        vertical-align: middle;\n",
       "    }\n",
       "\n",
       "    .dataframe tbody tr th {\n",
       "        vertical-align: top;\n",
       "    }\n",
       "\n",
       "    .dataframe thead th {\n",
       "        text-align: right;\n",
       "    }\n",
       "</style>\n",
       "<table border=\"1\" class=\"dataframe\">\n",
       "  <thead>\n",
       "    <tr style=\"text-align: right;\">\n",
       "      <th></th>\n",
       "      <th>Name</th>\n",
       "      <th>Job Titles</th>\n",
       "      <th>Department</th>\n",
       "      <th>Full or Part-Time</th>\n",
       "      <th>Salary or Hourly</th>\n",
       "      <th>Typical Hours</th>\n",
       "      <th>Annual Salary</th>\n",
       "      <th>Hourly Rate</th>\n",
       "    </tr>\n",
       "  </thead>\n",
       "  <tbody>\n",
       "    <tr>\n",
       "      <th>0</th>\n",
       "      <td>ADRIANO,  RACQUEL ANNE</td>\n",
       "      <td>PARAMEDIC</td>\n",
       "      <td>FIRE</td>\n",
       "      <td>F</td>\n",
       "      <td>Salary</td>\n",
       "      <td>NaN</td>\n",
       "      <td>72510.0</td>\n",
       "      <td>NaN</td>\n",
       "    </tr>\n",
       "    <tr>\n",
       "      <th>1</th>\n",
       "      <td>AFFANEH,  MAHIR A</td>\n",
       "      <td>POLICE OFFICER</td>\n",
       "      <td>POLICE</td>\n",
       "      <td>F</td>\n",
       "      <td>Salary</td>\n",
       "      <td>NaN</td>\n",
       "      <td>93354.0</td>\n",
       "      <td>NaN</td>\n",
       "    </tr>\n",
       "    <tr>\n",
       "      <th>2</th>\n",
       "      <td>AFOENYI,  PHYLLIS</td>\n",
       "      <td>TITLE V PROGRAM TRAINEE I</td>\n",
       "      <td>FAMILY &amp; SUPPORT</td>\n",
       "      <td>P</td>\n",
       "      <td>Hourly</td>\n",
       "      <td>20.0</td>\n",
       "      <td>NaN</td>\n",
       "      <td>13.0</td>\n",
       "    </tr>\n",
       "    <tr>\n",
       "      <th>3</th>\n",
       "      <td>AGAR,  BULENT B</td>\n",
       "      <td>DEPUTY COMMISSIONER</td>\n",
       "      <td>WATER MGMNT</td>\n",
       "      <td>F</td>\n",
       "      <td>Salary</td>\n",
       "      <td>NaN</td>\n",
       "      <td>132972.0</td>\n",
       "      <td>NaN</td>\n",
       "    </tr>\n",
       "    <tr>\n",
       "      <th>4</th>\n",
       "      <td>AGEE,  LAWRENCE</td>\n",
       "      <td>POLICE OFFICER</td>\n",
       "      <td>POLICE</td>\n",
       "      <td>F</td>\n",
       "      <td>Salary</td>\n",
       "      <td>NaN</td>\n",
       "      <td>90024.0</td>\n",
       "      <td>NaN</td>\n",
       "    </tr>\n",
       "  </tbody>\n",
       "</table>\n",
       "</div>"
      ],
      "text/plain": [
       "                     Name                 Job Titles        Department  \\\n",
       "0  ADRIANO,  RACQUEL ANNE                  PARAMEDIC              FIRE   \n",
       "1       AFFANEH,  MAHIR A             POLICE OFFICER            POLICE   \n",
       "2       AFOENYI,  PHYLLIS  TITLE V PROGRAM TRAINEE I  FAMILY & SUPPORT   \n",
       "3         AGAR,  BULENT B        DEPUTY COMMISSIONER       WATER MGMNT   \n",
       "4         AGEE,  LAWRENCE             POLICE OFFICER            POLICE   \n",
       "\n",
       "  Full or Part-Time Salary or Hourly  Typical Hours  Annual Salary  \\\n",
       "0                 F           Salary            NaN        72510.0   \n",
       "1                 F           Salary            NaN        93354.0   \n",
       "2                 P           Hourly           20.0            NaN   \n",
       "3                 F           Salary            NaN       132972.0   \n",
       "4                 F           Salary            NaN        90024.0   \n",
       "\n",
       "   Hourly Rate  \n",
       "0          NaN  \n",
       "1          NaN  \n",
       "2         13.0  \n",
       "3          NaN  \n",
       "4          NaN  "
      ]
     },
     "execution_count": 3,
     "metadata": {},
     "output_type": "execute_result"
    }
   ],
   "source": [
    "# Your code here:\n",
    "salaries.head()\n"
   ]
  },
  {
   "cell_type": "markdown",
   "metadata": {},
   "source": [
    "We see from looking at the `head` function that there is quite a bit of missing data. Let's examine how much missing data is in each column. Produce this output in the cell below"
   ]
  },
  {
   "cell_type": "code",
   "execution_count": 4,
   "metadata": {},
   "outputs": [
    {
     "data": {
      "text/plain": [
       "Name                 0.000000\n",
       "Job Titles           0.000000\n",
       "Department           0.000000\n",
       "Full or Part-Time    0.000000\n",
       "Salary or Hourly     0.000000\n",
       "Typical Hours        0.757462\n",
       "Annual Salary        0.242538\n",
       "Hourly Rate          0.757462\n",
       "dtype: float64"
      ]
     },
     "execution_count": 4,
     "metadata": {},
     "output_type": "execute_result"
    }
   ],
   "source": [
    "# Your code here:\n",
    "\n",
    "salaries.isnull().sum()/len(salaries)\n",
    "\n"
   ]
  },
  {
   "cell_type": "markdown",
   "metadata": {},
   "source": [
    "Let's also look at the count of hourly vs. salaried employees. Write the code in the cell below"
   ]
  },
  {
   "cell_type": "code",
   "execution_count": 21,
   "metadata": {},
   "outputs": [
    {
     "data": {
      "text/plain": [
       "NaN      25528\n",
       "37.45     1495\n",
       "43.72      779\n",
       "38.52      528\n",
       "19.86      345\n",
       "         ...  \n",
       "33.00        1\n",
       "52.43        1\n",
       "26.90        1\n",
       "21.84        1\n",
       "37.69        1\n",
       "Name: Hourly Rate, Length: 179, dtype: int64"
      ]
     },
     "execution_count": 21,
     "metadata": {},
     "output_type": "execute_result"
    }
   ],
   "source": [
    "# Your code here:   #bar asas balaye mifahmi k null value \n",
    "salaries[\"Hourly Rate\"].value_counts(dropna=False)\n"
   ]
  },
  {
   "cell_type": "code",
   "execution_count": null,
   "metadata": {},
   "outputs": [],
   "source": [
    "salaries[\"Salary or Hourly\"].value_counts(dropna=False)\n"
   ]
  },
  {
   "cell_type": "markdown",
   "metadata": {},
   "source": [
    "What this information indicates is that the table contains information about two types of employees - salaried and hourly. Some columns apply only to one type of employee while other columns only apply to another kind. This is why there are so many missing values. Therefore, we will not do anything to handle the missing values."
   ]
  },
  {
   "cell_type": "markdown",
   "metadata": {},
   "source": [
    "There are different departments in the city. List all departments and the count of employees in each department."
   ]
  },
  {
   "cell_type": "code",
   "execution_count": 20,
   "metadata": {},
   "outputs": [
    {
     "data": {
      "text/plain": [
       "Department\n",
       "ADMIN HEARNG              38\n",
       "ANIMAL CONTRL             75\n",
       "AVIATION                1856\n",
       "BOARD OF ELECTION        111\n",
       "BOARD OF ETHICS            8\n",
       "BUDGET & MGMT             44\n",
       "BUILDINGS                258\n",
       "BUSINESS AFFAIRS         167\n",
       "CITY CLERK                88\n",
       "CITY COUNCIL             362\n",
       "COPA                     123\n",
       "CULTURAL AFFAIRS          74\n",
       "DAIS                    1033\n",
       "DISABILITIES              28\n",
       "FAMILY & SUPPORT         656\n",
       "FINANCE                  544\n",
       "FIRE                    4627\n",
       "HEALTH                   467\n",
       "HOUSING                   66\n",
       "HOUSING & ECON DEV       154\n",
       "HUMAN RELATIONS           17\n",
       "HUMAN RESOURCES           75\n",
       "INSPECTOR GEN             95\n",
       "LAW                      398\n",
       "LICENSE APPL COMM          1\n",
       "MAYOR'S OFFICE           104\n",
       "OEMC                    1737\n",
       "POLICE                 13848\n",
       "POLICE BOARD               2\n",
       "PROCUREMENT               84\n",
       "PUBLIC LIBRARY          1088\n",
       "PUBLIC SAFETY ADMIN      244\n",
       "STREETS & SAN           2175\n",
       "TRANSPORTN              1113\n",
       "TREASURER                 28\n",
       "WATER MGMNT             1914\n",
       "Name: Name, dtype: int64"
      ]
     },
     "metadata": {},
     "output_type": "display_data"
    },
    {
     "data": {
      "text/plain": [
       "POLICE                 13848\n",
       "FIRE                    4627\n",
       "STREETS & SAN           2175\n",
       "WATER MGMNT             1914\n",
       "AVIATION                1856\n",
       "OEMC                    1737\n",
       "TRANSPORTN              1113\n",
       "PUBLIC LIBRARY          1088\n",
       "DAIS                    1033\n",
       "FAMILY & SUPPORT         656\n",
       "FINANCE                  544\n",
       "HEALTH                   467\n",
       "LAW                      398\n",
       "CITY COUNCIL             362\n",
       "BUILDINGS                258\n",
       "PUBLIC SAFETY ADMIN      244\n",
       "BUSINESS AFFAIRS         167\n",
       "HOUSING & ECON DEV       154\n",
       "COPA                     123\n",
       "BOARD OF ELECTION        111\n",
       "MAYOR'S OFFICE           104\n",
       "INSPECTOR GEN             95\n",
       "CITY CLERK                88\n",
       "PROCUREMENT               84\n",
       "HUMAN RESOURCES           75\n",
       "ANIMAL CONTRL             75\n",
       "CULTURAL AFFAIRS          74\n",
       "HOUSING                   66\n",
       "BUDGET & MGMT             44\n",
       "ADMIN HEARNG              38\n",
       "DISABILITIES              28\n",
       "TREASURER                 28\n",
       "HUMAN RELATIONS           17\n",
       "BOARD OF ETHICS            8\n",
       "POLICE BOARD               2\n",
       "LICENSE APPL COMM          1\n",
       "Name: Department, dtype: int64"
      ]
     },
     "execution_count": 20,
     "metadata": {},
     "output_type": "execute_result"
    }
   ],
   "source": [
    "# Your code here:  #better use the pivot table\n",
    "department_counts = salaries.groupby('Department')['Name'].count()\n",
    "display(department_counts)\n",
    "salaries['Department'].value_counts()"
   ]
  },
  {
   "cell_type": "markdown",
   "metadata": {},
   "source": [
    "# Challenge 2 - Hypothesis Tests\n",
    "\n",
    "In this section of the lab, we will test whether the hourly wage of all hourly workers is significantly different from $30/hr. Import the correct one sample test function from scipy and perform the hypothesis test for a 95% two sided confidence interval."
   ]
  },
  {
   "cell_type": "code",
   "execution_count": 7,
   "metadata": {},
   "outputs": [
    {
     "name": "stdout",
     "output_type": "stream",
     "text": [
      "T-statistic:  31.211500329216044\n",
      "P-value:  3.825475847673794e-202\n"
     ]
    }
   ],
   "source": [
    "# Your code here:\n",
    "#H0=the hourly wage of hourly workers=30$ per hour\n",
    "#H1=the hourly wage of hourly workers!=30$ per hour\n",
    "\n",
    "#filter out only hourly workers\n",
    "hourly_workers=salaries[salaries[\"Salary or Hourly\"]=='Hourly']   #mean of the this column\n",
    "\n",
    "stat, pval = ttest_1samp(hourly_workers[\"Hourly Rate\"], 30)\n",
    "\n",
    "print('T-statistic: ', stat)\n",
    "print('P-value: ', pval)   #determine to reject or accept, here we conclude that most likely H! in accepet.\n",
    "\n",
    "#A small p-value (typically less than 0.05) suggests that the data you collected is quite unlikely under the null hypothesis. In other words, it provides strong evidence against the null hypothesis.\n",
    "#The test statistic of 31.211 indicates that the difference between the \"Hourly Rate\" mean and the null hypothesis population mean of 30."
   ]
  },
  {
   "cell_type": "code",
   "execution_count": 17,
   "metadata": {},
   "outputs": [
    {
     "data": {
      "text/plain": [
       "34.58644971862002"
      ]
     },
     "execution_count": 17,
     "metadata": {},
     "output_type": "execute_result"
    }
   ],
   "source": [
    "hourly_workers.mean()  #see here mean of this column is more than 30"
   ]
  },
  {
   "cell_type": "markdown",
   "metadata": {},
   "source": [
    "We are also curious about salaries in the police force. The chief of police in Chicago claimed in a press briefing that salaries this year are higher than last year's mean of $86000/year a year for all salaried employees. Test this one sided hypothesis using a 95% confidence interval.\n",
    "\n",
    "Hint: A one tailed test has a p-value that is half of the two tailed p-value. If our Null hypothesis is less than or equal to, then to reject, the test statistic must be positive (rejects the <) and the p-value below 0.05 (rejects the =)."
   ]
  },
  {
   "cell_type": "code",
   "execution_count": 8,
   "metadata": {},
   "outputs": [
    {
     "name": "stdout",
     "output_type": "stream",
     "text": [
      "stat fo the one-tailed test is 18.51748561981861\n",
      "pvalue for the one-tailed test is  6.119566952121482e-76\n"
     ]
    }
   ],
   "source": [
    "#H0= salaries of year<=86000$   \n",
    "#H1= salaries of year>86000$\n",
    "\n",
    "police_salaries=salaries[(salaries[\"Department\"]==\"POLICE\") & (salaries[\"Salary or Hourly\"]==\"Salary\")]\n",
    "stat, pval = ttest_1samp(police_salaries['Annual Salary'],86000)\n",
    "print('stat fo the one-tailed test is',stat)\n",
    "print('pvalue for the one-tailed test is ', pval/2)\n",
    "\n",
    "#A small p-value (typically less than 0.05) suggests that the data you collected is quite unlikely under the null hypothesis. In other words, it provides strong evidence against the null hypothesis.\n",
    "#stat is positive which means that the sample mean is greater than hypothesis mean of 86k\n",
    "#Ho will be rejected!"
   ]
  },
  {
   "cell_type": "code",
   "execution_count": 22,
   "metadata": {},
   "outputs": [
    {
     "name": "stderr",
     "output_type": "stream",
     "text": [
      "C:\\Users\\Parinaz\\AppData\\Local\\Temp\\ipykernel_27844\\2438658937.py:1: FutureWarning: The default value of numeric_only in DataFrame.mean is deprecated. In a future version, it will default to False. In addition, specifying 'numeric_only=None' is deprecated. Select only valid columns or specify the value of numeric_only to silence this warning.\n",
      "  police_salaries.mean()\n"
     ]
    },
    {
     "data": {
      "text/plain": [
       "Typical Hours             NaN\n",
       "Annual Salary    88834.118924\n",
       "Hourly Rate               NaN\n",
       "dtype: float64"
      ]
     },
     "execution_count": 22,
     "metadata": {},
     "output_type": "execute_result"
    }
   ],
   "source": [
    "police_salaries.mean()"
   ]
  },
  {
   "cell_type": "markdown",
   "metadata": {},
   "source": [
    "Using the `crosstab` function, find the department that has the most hourly workers. "
   ]
  },
  {
   "cell_type": "code",
   "execution_count": 19,
   "metadata": {},
   "outputs": [
    {
     "name": "stdout",
     "output_type": "stream",
     "text": [
      "The department is :STREETS & SAN\n"
     ]
    }
   ],
   "source": [
    "# Your code here:\n",
    "\n",
    "data_crosstab = pd.crosstab(salaries[\"Department\"], salaries[\"Salary or Hourly\"], margins = False)  # Group by\n",
    "hourly_counts=data_crosstab[\"Hourly\"].idxmax()\n",
    "hourly_counts\n",
    "\n",
    "print(f\"The department is :{hourly_counts}\")"
   ]
  },
  {
   "cell_type": "markdown",
   "metadata": {},
   "source": [
    "The workers from the department with the most hourly workers have complained that their hourly wage is less than $35/hour. Using a one sample t-test, test this one-sided hypothesis at the 95% confidence level."
   ]
  },
  {
   "cell_type": "code",
   "execution_count": 10,
   "metadata": {},
   "outputs": [
    {
     "name": "stdout",
     "output_type": "stream",
     "text": [
      "stat fo the one-tailed test is 4.000138803968834\n",
      "pvalue for the one-tailed test is  3.2902372218867895e-05\n"
     ]
    }
   ],
   "source": [
    "# Your code here:\n",
    "\n",
    "#H0=worker's hourly wage>=35$   # oni k megeh ro bayad barax koin \n",
    "#H1=worker's hourly wage<35$\n",
    "\n",
    "department_hourly_workers=salaries[(salaries[\"Department\"]== hourly_counts) & (salaries[\"Salary or Hourly\"]=='Hourly')]\n",
    "stat, pval = ttest_1samp(department_hourly_workers[\"Hourly Rate\"],35)\n",
    "print('stat fo the one-tailed test is',stat)\n",
    "print('pvalue for the one-tailed test is ', pval/2)\n",
    "\n",
    "#A small p-value (typically less than 0.05) suggests that the data you collected is quite unlikely under the null hypothesis. In other words, it provides strong evidence against the null hypothesis.\n",
    "#stat is positive which means that the sample mean is greater than hypothesis mean of 35\n",
    "#Ho will be accepted!"
   ]
  },
  {
   "cell_type": "markdown",
   "metadata": {},
   "source": [
    "# Challenge 3: To practice - Constructing Confidence Intervals\n",
    "\n",
    "While testing our hypothesis is a great way to gather empirical evidence for accepting or rejecting the hypothesis, another way to gather evidence is by creating a confidence interval. A confidence interval gives us information about the true mean of the population. So for a 95% confidence interval, we are 95% sure that the mean of the population is within the confidence interval. \n",
    ").\n",
    "\n",
    "To read more about confidence intervals, click [here](https://en.wikipedia.org/wiki/Confidence_interval).\n",
    "\n",
    "\n",
    "In the cell below, we will construct a 95% confidence interval for the mean hourly wage of all hourly workers. \n",
    "\n",
    "The confidence interval is computed in SciPy using the `t.interval` function. You can read more about this function [here](https://docs.scipy.org/doc/scipy-0.14.0/reference/generated/scipy.stats.t.html).\n",
    "\n",
    "To compute the confidence interval of the hourly wage, use the 0.95 for the confidence level, number of rows - 1 for degrees of freedom, the mean of the sample for the location parameter and the standard error for the scale. The standard error can be computed using [this](https://docs.scipy.org/doc/scipy/reference/generated/scipy.stats.sem.html) function in SciPy."
   ]
  },
  {
   "cell_type": "code",
   "execution_count": 11,
   "metadata": {},
   "outputs": [
    {
     "name": "stdout",
     "output_type": "stream",
     "text": [
      "0.14694742867989846\n",
      "confidence interval is  (34.29839539204317, 34.874504045196865) .\n"
     ]
    }
   ],
   "source": [
    "# Your code here:\n",
    "import scipy.stats\n",
    "hourly_workers=salaries[salaries[\"Salary or Hourly\"]=='Hourly']['Hourly Rate']\n",
    "\n",
    "confidence_level = 0.95\n",
    "degrees_freedom = len(hourly_workers) - 1  \n",
    "sample_mean = np.mean(hourly_workers)\n",
    "\n",
    "sample_standard_error = scipy.stats.sem(hourly_workers) \n",
    "\n",
    "confidence_interval = scipy.stats.t.interval(confidence_level, \n",
    "                                             degrees_freedom, \n",
    "                                             sample_mean, \n",
    "                                             sample_standard_error)\n",
    "print(np.std(hourly_workers)/np.sqrt(degrees_freedom))\n",
    "print( 'confidence interval is ', confidence_interval, '.' ) "
   ]
  },
  {
   "cell_type": "markdown",
   "metadata": {},
   "source": [
    "Now construct the 95% confidence interval for all salaried employeed in the police in the cell below."
   ]
  },
  {
   "cell_type": "code",
   "execution_count": 15,
   "metadata": {},
   "outputs": [
    {
     "name": "stdout",
     "output_type": "stream",
     "text": [
      "153.05095852634435\n",
      "confidence interval is  (88534.1182885883, 89134.11955863392) .\n"
     ]
    }
   ],
   "source": [
    "# Your code here:   \n",
    "salaried_employeed_the_police= salaries[(salaries[\"Salary or Hourly\"]=='Salary') & (salaries[\"Department\"]==\"POLICE\")]['Annual Salary']\n",
    "\n",
    "confidence_level = 0.95\n",
    "degrees_freedom = len(salaried_employeed_the_police) - 1  \n",
    "sample_mean = np.mean(salaried_employeed_the_police)\n",
    "\n",
    "sample_standard_error = scipy.stats.sem(salaried_employeed_the_police) \n",
    "\n",
    "confidence_interval = scipy.stats.t.interval(confidence_level, \n",
    "                                             degrees_freedom, \n",
    "                                             sample_mean, \n",
    "                                             sample_standard_error)\n",
    "print(np.std(salaried_employeed_the_police)/np.sqrt(degrees_freedom))\n",
    "print( 'confidence interval is ', confidence_interval, '.' ) \n"
   ]
  },
  {
   "cell_type": "markdown",
   "metadata": {},
   "source": [
    "# Bonus Challenge - Hypothesis Tests of Proportions\n",
    "\n",
    "Another type of one sample test is a hypothesis test of proportions. In this test, we examine whether the proportion of a group in our sample is significantly different than a fraction. \n",
    "\n",
    "You can read more about one sample proportion tests [here](http://sphweb.bumc.bu.edu/otlt/MPH-Modules/BS/SAS/SAS6-CategoricalData/SAS6-CategoricalData2.html).\n",
    "\n",
    "In the cell below, use the `proportions_ztest` function from `statsmodels` to perform a hypothesis test that will determine whether the number of hourly workers in the City of Chicago is significantly different from 25% at the 95% confidence level."
   ]
  },
  {
   "cell_type": "code",
   "execution_count": null,
   "metadata": {},
   "outputs": [],
   "source": [
    "# Your code here:\n",
    "\n"
   ]
  }
 ],
 "metadata": {
  "kernelspec": {
   "display_name": "Python 3 (ipykernel)",
   "language": "python",
   "name": "python3"
  },
  "language_info": {
   "codemirror_mode": {
    "name": "ipython",
    "version": 3
   },
   "file_extension": ".py",
   "mimetype": "text/x-python",
   "name": "python",
   "nbconvert_exporter": "python",
   "pygments_lexer": "ipython3",
   "version": "3.11.5"
  }
 },
 "nbformat": 4,
 "nbformat_minor": 2
}
